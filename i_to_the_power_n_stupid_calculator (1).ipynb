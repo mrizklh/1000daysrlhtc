{
 "cells": [
  {
   "cell_type": "code",
   "execution_count": 30,
   "id": "ef5a86ef-778d-4db0-85fd-8cc5eff48e18",
   "metadata": {},
   "outputs": [
    {
     "name": "stdin",
     "output_type": "stream",
     "text": [
      "masukkan nilai pangkat dari i^ 6\n"
     ]
    },
    {
     "name": "stdout",
     "output_type": "stream",
     "text": [
      "-i\n"
     ]
    }
   ],
   "source": [
    "def nilai_i_pangkat(n):\n",
    "    if n % 4 == 0: \n",
    "        print(\"nilai = 1\")\n",
    "    elif n % 3 == 0:\n",
    "        print(\"-i\")\n",
    "    elif n % 2 == 0:\n",
    "        print(-1) \n",
    "    elif n % 1 == 0: \n",
    "        print(\"i\")\n",
    "            \n",
    "              \n",
    "nilai_i_pangkat(int(input(\"masukkan nilai pangkat dari i^\")))"
   ]
  }
 ],
 "metadata": {
  "kernelspec": {
   "display_name": "Python 3 (ipykernel)",
   "language": "python",
   "name": "python3"
  },
  "language_info": {
   "codemirror_mode": {
    "name": "ipython",
    "version": 3
   },
   "file_extension": ".py",
   "mimetype": "text/x-python",
   "name": "python",
   "nbconvert_exporter": "python",
   "pygments_lexer": "ipython3",
   "version": "3.9.7"
  }
 },
 "nbformat": 4,
 "nbformat_minor": 5
}
